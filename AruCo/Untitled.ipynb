{
 "cells": [
  {
   "cell_type": "code",
   "execution_count": 33,
   "id": "dfe03dfb",
   "metadata": {},
   "outputs": [],
   "source": [
    "import numpy as np\n",
    "from playsound import playsound"
   ]
  },
  {
   "cell_type": "code",
   "execution_count": 34,
   "id": "fc4bc99c",
   "metadata": {},
   "outputs": [],
   "source": [
    "def play(ids, id_0):\n",
    "        if np.array_equal(ids, id_0) == False:\n",
    "            playsound('1.wav')"
   ]
  },
  {
   "cell_type": "code",
   "execution_count": 35,
   "id": "b83c88c1",
   "metadata": {},
   "outputs": [],
   "source": [
    "ids = np.arange(0, 7, dtype=int)"
   ]
  },
  {
   "cell_type": "code",
   "execution_count": 36,
   "id": "faa61090",
   "metadata": {},
   "outputs": [],
   "source": [
    "ids_0 = np.arange(0, 7, 1, dtype=int)"
   ]
  },
  {
   "cell_type": "code",
   "execution_count": 37,
   "id": "f0122541",
   "metadata": {},
   "outputs": [],
   "source": [
    "play(ids, ids_0)"
   ]
  },
  {
   "cell_type": "code",
   "execution_count": null,
   "id": "8c75dc35",
   "metadata": {},
   "outputs": [],
   "source": []
  }
 ],
 "metadata": {
  "kernelspec": {
   "display_name": "Python 3 (ipykernel)",
   "language": "python",
   "name": "python3"
  },
  "language_info": {
   "codemirror_mode": {
    "name": "ipython",
    "version": 3
   },
   "file_extension": ".py",
   "mimetype": "text/x-python",
   "name": "python",
   "nbconvert_exporter": "python",
   "pygments_lexer": "ipython3",
   "version": "3.9.12"
  }
 },
 "nbformat": 4,
 "nbformat_minor": 5
}
